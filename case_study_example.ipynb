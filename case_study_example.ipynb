{
 "cells": [
  {
   "cell_type": "code",
   "execution_count": 1,
   "metadata": {
    "collapsed": true
   },
   "outputs": [],
   "source": [
    "import pyspark as ps\n",
    "from pyspark.ml import Pipeline\n",
    "from pyspark.ml.evaluation import RegressionEvaluator\n",
    "from pyspark.ml.recommendation import ALS\n",
    "from pyspark.ml.tuning import CrossValidator, ParamGridBuilder\n",
    "from pyspark.sql import Row\n",
    "from pyspark.sql import functions as F\n",
    "from pyspark.sql import DataFrameNaFunctions as DFna\n",
    "from pyspark.sql.functions import udf, col, when\n",
    "import matplotlib.pyplot as plt\n",
    "import numpy as np\n",
    "import math\n",
    "import os"
   ]
  },
  {
   "cell_type": "code",
   "execution_count": 3,
   "metadata": {
    "collapsed": false
   },
   "outputs": [],
   "source": [
    "spark = ps.sql.SparkSession.builder \\\n",
    "            .master(\"local[4]\") \\\n",
    "            .appName(\"building recommender\") \\\n",
    "            .getOrCreate()\n",
    "            \n",
    "sc = spark.sparkContext"
   ]
  },
  {
   "cell_type": "code",
   "execution_count": 5,
   "metadata": {
    "collapsed": true
   },
   "outputs": [],
   "source": [
    "subset_raw_data = sc.textFile('data/subset.csv')"
   ]
  },
  {
   "cell_type": "code",
   "execution_count": 6,
   "metadata": {
    "collapsed": false
   },
   "outputs": [
    {
     "name": "stdout",
     "output_type": "stream",
     "text": [
      "<class 'pyspark.rdd.RDD'>\n"
     ]
    },
    {
     "data": {
      "text/plain": [
       "[u',id,source,reader_id,from_book_id,book_id,ad_id,boost_id,clicked,claimed,optin,created_at,updated_at',\n",
       " u'29295882,29295919,success_page,186643,20370,19203,0,0,1,1,0,2017-02-20 02:16:11,2017-02-20 02:26:24',\n",
       " u'29295883,29295920,success_page,186643,20370,19813,0,0,0,0,0,2017-02-20 02:16:11,2017-02-20 02:16:11']"
      ]
     },
     "execution_count": 6,
     "metadata": {},
     "output_type": "execute_result"
    }
   ],
   "source": [
    "print type(subset_raw_data)\n",
    "subset_raw_data.take(3)"
   ]
  },
  {
   "cell_type": "code",
   "execution_count": 14,
   "metadata": {
    "collapsed": false
   },
   "outputs": [],
   "source": [
    "subset_raw_data_header = subset_raw_data.take(1)[0]\n",
    "subset_data = subset_raw_data.filter(lambda line: line!=subset_raw_data_header)\\\n",
    "    .map(lambda line: line.split(\",\"))\\\n",
    "    .map(lambda tokens: (tokens[3],tokens[5],tokens[9])).cache()"
   ]
  },
  {
   "cell_type": "code",
   "execution_count": 16,
   "metadata": {
    "collapsed": true
   },
   "outputs": [],
   "source": [
    "subsetRDD = subset_data.map(lambda p: Row(reader_id=int(p[0]), book_id=int(p[1]), claimed=float(p[2])))"
   ]
  },
  {
   "cell_type": "code",
   "execution_count": 15,
   "metadata": {
    "collapsed": false
   },
   "outputs": [
    {
     "data": {
      "text/plain": [
       "[(u'186643', u'19203', u'1'),\n",
       " (u'186643', u'19813', u'0'),\n",
       " (u'523754', u'16281', u'0'),\n",
       " (u'523754', u'22669', u'1')]"
      ]
     },
     "execution_count": 15,
     "metadata": {},
     "output_type": "execute_result"
    }
   ],
   "source": [
    "subset_data.take(4)"
   ]
  },
  {
   "cell_type": "code",
   "execution_count": 17,
   "metadata": {
    "collapsed": false
   },
   "outputs": [
    {
     "data": {
      "text/plain": [
       "[Row(book_id=19203, claimed=1.0, reader_id=186643),\n",
       " Row(book_id=19813, claimed=0.0, reader_id=186643),\n",
       " Row(book_id=16281, claimed=0.0, reader_id=523754),\n",
       " Row(book_id=22669, claimed=1.0, reader_id=523754)]"
      ]
     },
     "execution_count": 17,
     "metadata": {},
     "output_type": "execute_result"
    }
   ],
   "source": [
    "subsetRDD.take(4)"
   ]
  },
  {
   "cell_type": "code",
   "execution_count": 26,
   "metadata": {
    "collapsed": false
   },
   "outputs": [],
   "source": [
    "ratings = spark.createDataFrame(subsetRDD)\n",
    "# (training, test) = ratings.randomSplit([0.8, 0.2])\n",
    "training, validation, test = ratings.randomSplit([0.6, 0.2, 0.2], seed=0L)\n",
    "# validation_for_predict = validation.map(lambda x: (x[0], x[1]))\n",
    "# test_for_predict = test.map(lambda x: (x[0], x[1]))"
   ]
  },
  {
   "cell_type": "code",
   "execution_count": 28,
   "metadata": {
    "collapsed": false
   },
   "outputs": [
    {
     "name": "stdout",
     "output_type": "stream",
     "text": [
      "For rank 10 the RMSE is 0.303873846647\n",
      "For rank 20 the RMSE is 0.300888997867\n",
      "For rank 30 the RMSE is 0.300137237713\n",
      "For rank 40 the RMSE is 0.300607483298\n",
      "The best model was trained with rank 30\n"
     ]
    }
   ],
   "source": [
    "iterations = 5\n",
    "regularization_parameter = 0.1\n",
    "ranks = [10, 20, 30, 40]\n",
    "errors = []\n",
    "\n",
    "min_error = float('inf')\n",
    "best_rank = -1\n",
    "best_iteration = -1\n",
    "\n",
    "for rank in ranks:\n",
    "    als = ALS(maxIter=iterations, regParam=regularization_parameter, rank=rank,\\\n",
    "              userCol=\"reader_id\", itemCol=\"book_id\", ratingCol=\"claimed\")#, implicitPrefs=True)\n",
    "    model = als.fit(training)\n",
    "    predictions = model.transform(validation)\n",
    "    new_predictions = predictions.filter(col('prediction') != np.nan)\n",
    "    evaluator = RegressionEvaluator(metricName=\"rmse\", labelCol=\"claimed\",\\\n",
    "                                    predictionCol=\"prediction\")\n",
    "    rmse = evaluator.evaluate(new_predictions)\n",
    "    errors.append(rmse)\n",
    "\n",
    "    print 'For rank %s the RMSE is %s' % (rank, rmse)\n",
    "    if rmse < min_error:\n",
    "        min_error = rmse\n",
    "        best_rank = rank\n",
    "print 'The best model was trained with rank %s' % best_rank"
   ]
  },
  {
   "cell_type": "code",
   "execution_count": 37,
   "metadata": {
    "collapsed": false
   },
   "outputs": [
    {
     "data": {
      "text/plain": [
       "[Row(book_id=3918, claimed=0.0, reader_id=158169, prediction=0.0),\n",
       " Row(book_id=3918, claimed=0.0, reader_id=541408, prediction=0.0),\n",
       " Row(book_id=3918, claimed=0.0, reader_id=394665, prediction=0.018479039892554283),\n",
       " Row(book_id=3918, claimed=0.0, reader_id=254931, prediction=0.0),\n",
       " Row(book_id=3918, claimed=0.0, reader_id=106401, prediction=0.014930207282304764),\n",
       " Row(book_id=3918, claimed=0.0, reader_id=417414, prediction=0.030561737716197968),\n",
       " Row(book_id=3918, claimed=0.0, reader_id=295346, prediction=0.0066400980576872826),\n",
       " Row(book_id=3918, claimed=0.0, reader_id=523242, prediction=0.21499432623386383),\n",
       " Row(book_id=4900, claimed=0.0, reader_id=498360, prediction=0.0),\n",
       " Row(book_id=4900, claimed=0.0, reader_id=517548, prediction=0.0),\n",
       " Row(book_id=4900, claimed=0.0, reader_id=298142, prediction=0.0),\n",
       " Row(book_id=4900, claimed=0.0, reader_id=568081, prediction=-0.009341178461909294),\n",
       " Row(book_id=4900, claimed=0.0, reader_id=217096, prediction=0.0),\n",
       " Row(book_id=4900, claimed=0.0, reader_id=320904, prediction=-0.016071870923042297),\n",
       " Row(book_id=4900, claimed=0.0, reader_id=127276, prediction=-0.01600942574441433),\n",
       " Row(book_id=4900, claimed=0.0, reader_id=479533, prediction=0.0),\n",
       " Row(book_id=4900, claimed=0.0, reader_id=34134, prediction=-0.06036379560828209),\n",
       " Row(book_id=4900, claimed=0.0, reader_id=400906, prediction=0.0),\n",
       " Row(book_id=6620, claimed=1.0, reader_id=387012, prediction=0.06756947934627533),\n",
       " Row(book_id=6620, claimed=1.0, reader_id=543780, prediction=0.14832058548927307),\n",
       " Row(book_id=6620, claimed=0.0, reader_id=191847, prediction=-0.018495094031095505),\n",
       " Row(book_id=6620, claimed=0.0, reader_id=22102, prediction=0.0),\n",
       " Row(book_id=6620, claimed=0.0, reader_id=83921, prediction=0.005010496824979782),\n",
       " Row(book_id=6620, claimed=0.0, reader_id=121055, prediction=0.0),\n",
       " Row(book_id=6620, claimed=0.0, reader_id=14700, prediction=0.0),\n",
       " Row(book_id=6620, claimed=1.0, reader_id=108782, prediction=0.05769597366452217),\n",
       " Row(book_id=6620, claimed=0.0, reader_id=311798, prediction=0.005465804133564234),\n",
       " Row(book_id=7754, claimed=0.0, reader_id=355117, prediction=-0.048976439982652664),\n",
       " Row(book_id=7754, claimed=0.0, reader_id=201182, prediction=-0.022649548947811127),\n",
       " Row(book_id=7754, claimed=1.0, reader_id=56357, prediction=-0.04396551102399826),\n",
       " Row(book_id=7754, claimed=0.0, reader_id=408245, prediction=0.0),\n",
       " Row(book_id=7754, claimed=0.0, reader_id=410397, prediction=0.0),\n",
       " Row(book_id=7993, claimed=0.0, reader_id=180839, prediction=0.0),\n",
       " Row(book_id=7993, claimed=0.0, reader_id=396212, prediction=0.08440691977739334),\n",
       " Row(book_id=7993, claimed=0.0, reader_id=294768, prediction=0.0),\n",
       " Row(book_id=7993, claimed=1.0, reader_id=186417, prediction=-0.03983651101589203),\n",
       " Row(book_id=7993, claimed=1.0, reader_id=47730, prediction=0.0016894303262233734),\n",
       " Row(book_id=7993, claimed=0.0, reader_id=449079, prediction=0.0),\n",
       " Row(book_id=7993, claimed=0.0, reader_id=80404, prediction=0.016544122248888016),\n",
       " Row(book_id=11748, claimed=0.0, reader_id=252439, prediction=0.05181775242090225),\n",
       " Row(book_id=11748, claimed=1.0, reader_id=190843, prediction=0.11485829204320908),\n",
       " Row(book_id=11748, claimed=0.0, reader_id=34744, prediction=0.026395343244075775),\n",
       " Row(book_id=11748, claimed=0.0, reader_id=350145, prediction=0.16217759251594543),\n",
       " Row(book_id=11748, claimed=0.0, reader_id=218963, prediction=0.0),\n",
       " Row(book_id=11748, claimed=0.0, reader_id=278058, prediction=0.0),\n",
       " Row(book_id=11748, claimed=0.0, reader_id=191395, prediction=0.0),\n",
       " Row(book_id=11748, claimed=1.0, reader_id=437597, prediction=-0.0041982135735452175),\n",
       " Row(book_id=11748, claimed=0.0, reader_id=174728, prediction=0.015593443065881729),\n",
       " Row(book_id=11748, claimed=0.0, reader_id=243605, prediction=0.01633564382791519),\n",
       " Row(book_id=11748, claimed=0.0, reader_id=438912, prediction=0.03505690395832062),\n",
       " Row(book_id=11748, claimed=0.0, reader_id=143822, prediction=0.0),\n",
       " Row(book_id=11748, claimed=0.0, reader_id=451823, prediction=0.024538302794098854),\n",
       " Row(book_id=11748, claimed=0.0, reader_id=559615, prediction=0.042350344359874725),\n",
       " Row(book_id=11748, claimed=1.0, reader_id=257653, prediction=0.02951517514884472),\n",
       " Row(book_id=11748, claimed=0.0, reader_id=223064, prediction=0.0),\n",
       " Row(book_id=14570, claimed=0.0, reader_id=342715, prediction=0.0),\n",
       " Row(book_id=14570, claimed=0.0, reader_id=122281, prediction=0.0),\n",
       " Row(book_id=14570, claimed=0.0, reader_id=366322, prediction=0.0),\n",
       " Row(book_id=14570, claimed=0.0, reader_id=275287, prediction=0.0),\n",
       " Row(book_id=14570, claimed=0.0, reader_id=479126, prediction=0.0),\n",
       " Row(book_id=14570, claimed=0.0, reader_id=402630, prediction=0.0),\n",
       " Row(book_id=14570, claimed=0.0, reader_id=243926, prediction=0.0),\n",
       " Row(book_id=17679, claimed=0.0, reader_id=502944, prediction=0.04823044687509537),\n",
       " Row(book_id=17679, claimed=0.0, reader_id=14547, prediction=0.01996549963951111),\n",
       " Row(book_id=17679, claimed=0.0, reader_id=377724, prediction=0.10105675458908081),\n",
       " Row(book_id=18024, claimed=0.0, reader_id=123573, prediction=0.0020639454014599323),\n",
       " Row(book_id=18024, claimed=0.0, reader_id=499194, prediction=0.0),\n",
       " Row(book_id=18024, claimed=0.0, reader_id=284123, prediction=0.08454811573028564),\n",
       " Row(book_id=18024, claimed=0.0, reader_id=186421, prediction=0.05201827362179756),\n",
       " Row(book_id=18024, claimed=0.0, reader_id=476575, prediction=-0.001580512966029346),\n",
       " Row(book_id=18024, claimed=0.0, reader_id=337456, prediction=0.0004779198789037764),\n",
       " Row(book_id=18024, claimed=0.0, reader_id=452723, prediction=0.0),\n",
       " Row(book_id=18024, claimed=0.0, reader_id=40223, prediction=0.024575531482696533),\n",
       " Row(book_id=18024, claimed=0.0, reader_id=269424, prediction=0.0),\n",
       " Row(book_id=18800, claimed=0.0, reader_id=218332, prediction=0.0),\n",
       " Row(book_id=18866, claimed=0.0, reader_id=376374, prediction=0.0),\n",
       " Row(book_id=18866, claimed=0.0, reader_id=31191, prediction=0.03288320451974869),\n",
       " Row(book_id=18866, claimed=0.0, reader_id=416220, prediction=0.0),\n",
       " Row(book_id=18866, claimed=0.0, reader_id=196580, prediction=0.012155904434621334),\n",
       " Row(book_id=18866, claimed=0.0, reader_id=295489, prediction=0.012077229097485542),\n",
       " Row(book_id=18866, claimed=0.0, reader_id=185990, prediction=0.0),\n",
       " Row(book_id=18866, claimed=0.0, reader_id=222312, prediction=0.047267183661460876),\n",
       " Row(book_id=18866, claimed=0.0, reader_id=439369, prediction=0.010286927223205566),\n",
       " Row(book_id=18866, claimed=0.0, reader_id=375449, prediction=0.0),\n",
       " Row(book_id=18866, claimed=0.0, reader_id=123033, prediction=0.0),\n",
       " Row(book_id=19079, claimed=0.0, reader_id=156684, prediction=0.0974477082490921),\n",
       " Row(book_id=19079, claimed=1.0, reader_id=46210, prediction=0.2353702187538147),\n",
       " Row(book_id=19079, claimed=0.0, reader_id=12336, prediction=0.06103077530860901),\n",
       " Row(book_id=19079, claimed=0.0, reader_id=306371, prediction=0.08554953336715698),\n",
       " Row(book_id=19079, claimed=0.0, reader_id=380452, prediction=-2.829129243764328e-06),\n",
       " Row(book_id=19079, claimed=0.0, reader_id=339208, prediction=0.0393955260515213),\n",
       " Row(book_id=19079, claimed=0.0, reader_id=116948, prediction=0.026819663122296333),\n",
       " Row(book_id=19079, claimed=0.0, reader_id=11697, prediction=0.0),\n",
       " Row(book_id=19079, claimed=0.0, reader_id=141194, prediction=0.043957553803920746),\n",
       " Row(book_id=19079, claimed=0.0, reader_id=469018, prediction=0.0),\n",
       " Row(book_id=19079, claimed=0.0, reader_id=374673, prediction=-0.02284734696149826),\n",
       " Row(book_id=19079, claimed=1.0, reader_id=9828, prediction=0.04181557148694992),\n",
       " Row(book_id=19079, claimed=0.0, reader_id=252619, prediction=0.0),\n",
       " Row(book_id=19079, claimed=0.0, reader_id=561179, prediction=0.06757974624633789),\n",
       " Row(book_id=19079, claimed=0.0, reader_id=253036, prediction=0.0),\n",
       " Row(book_id=19079, claimed=0.0, reader_id=97506, prediction=nan),\n",
       " Row(book_id=19079, claimed=0.0, reader_id=523128, prediction=0.09330566227436066),\n",
       " Row(book_id=19079, claimed=0.0, reader_id=500269, prediction=0.0672185942530632),\n",
       " Row(book_id=19079, claimed=0.0, reader_id=147368, prediction=0.0),\n",
       " Row(book_id=19530, claimed=0.0, reader_id=144026, prediction=0.0),\n",
       " Row(book_id=19530, claimed=0.0, reader_id=18369, prediction=0.1392742097377777),\n",
       " Row(book_id=19530, claimed=0.0, reader_id=437108, prediction=0.04249560832977295),\n",
       " Row(book_id=19530, claimed=0.0, reader_id=127255, prediction=0.03284160792827606),\n",
       " Row(book_id=20382, claimed=0.0, reader_id=429868, prediction=0.015376262366771698),\n",
       " Row(book_id=20382, claimed=0.0, reader_id=185633, prediction=0.010705061256885529),\n",
       " Row(book_id=20382, claimed=0.0, reader_id=334350, prediction=0.0),\n",
       " Row(book_id=20382, claimed=0.0, reader_id=344544, prediction=0.0),\n",
       " Row(book_id=20382, claimed=0.0, reader_id=402456, prediction=0.05972782522439957),\n",
       " Row(book_id=20382, claimed=0.0, reader_id=352440, prediction=9.436835534870625e-05),\n",
       " Row(book_id=20382, claimed=0.0, reader_id=242534, prediction=0.0),\n",
       " Row(book_id=20382, claimed=0.0, reader_id=412667, prediction=0.019083615392446518),\n",
       " Row(book_id=20382, claimed=1.0, reader_id=225526, prediction=0.03270387649536133),\n",
       " Row(book_id=20382, claimed=0.0, reader_id=453219, prediction=0.1449281871318817),\n",
       " Row(book_id=20382, claimed=0.0, reader_id=335288, prediction=0.02989816479384899),\n",
       " Row(book_id=20382, claimed=0.0, reader_id=494459, prediction=0.0),\n",
       " Row(book_id=20382, claimed=0.0, reader_id=197694, prediction=0.02655383199453354),\n",
       " Row(book_id=20382, claimed=0.0, reader_id=509904, prediction=0.0),\n",
       " Row(book_id=20382, claimed=0.0, reader_id=287833, prediction=0.0),\n",
       " Row(book_id=20382, claimed=0.0, reader_id=172485, prediction=0.06032843887805939),\n",
       " Row(book_id=20382, claimed=0.0, reader_id=413342, prediction=0.037835657596588135),\n",
       " Row(book_id=20382, claimed=0.0, reader_id=381290, prediction=-0.0018862455617636442),\n",
       " Row(book_id=20382, claimed=0.0, reader_id=1018, prediction=-0.006067388225346804),\n",
       " Row(book_id=20382, claimed=0.0, reader_id=462325, prediction=0.0),\n",
       " Row(book_id=20382, claimed=0.0, reader_id=64909, prediction=0.11155854165554047),\n",
       " Row(book_id=20382, claimed=0.0, reader_id=112046, prediction=0.0),\n",
       " Row(book_id=20382, claimed=0.0, reader_id=384268, prediction=0.1335734874010086),\n",
       " Row(book_id=20382, claimed=0.0, reader_id=226680, prediction=0.0),\n",
       " Row(book_id=20683, claimed=1.0, reader_id=225150, prediction=0.06174015998840332),\n",
       " Row(book_id=20683, claimed=0.0, reader_id=126156, prediction=0.10945136100053787),\n",
       " Row(book_id=20683, claimed=0.0, reader_id=422198, prediction=0.06099468842148781),\n",
       " Row(book_id=20735, claimed=1.0, reader_id=237580, prediction=0.0602865107357502),\n",
       " Row(book_id=20735, claimed=0.0, reader_id=360898, prediction=0.0),\n",
       " Row(book_id=20735, claimed=0.0, reader_id=396204, prediction=0.012519646435976028),\n",
       " Row(book_id=22373, claimed=0.0, reader_id=533919, prediction=0.0),\n",
       " Row(book_id=22521, claimed=0.0, reader_id=38862, prediction=0.0),\n",
       " Row(book_id=22521, claimed=0.0, reader_id=96971, prediction=0.0),\n",
       " Row(book_id=22521, claimed=0.0, reader_id=359846, prediction=0.0),\n",
       " Row(book_id=22521, claimed=0.0, reader_id=95110, prediction=0.10615675896406174),\n",
       " Row(book_id=22521, claimed=0.0, reader_id=246815, prediction=0.10816850513219833),\n",
       " Row(book_id=22521, claimed=0.0, reader_id=245010, prediction=0.09217600524425507),\n",
       " Row(book_id=22521, claimed=0.0, reader_id=347485, prediction=0.11777792125940323),\n",
       " Row(book_id=22521, claimed=0.0, reader_id=266868, prediction=0.18344251811504364),\n",
       " Row(book_id=22521, claimed=0.0, reader_id=370239, prediction=0.0),\n",
       " Row(book_id=22521, claimed=0.0, reader_id=285128, prediction=0.0),\n",
       " Row(book_id=22521, claimed=0.0, reader_id=321668, prediction=0.003922007046639919),\n",
       " Row(book_id=22521, claimed=0.0, reader_id=236849, prediction=0.02639858052134514),\n",
       " Row(book_id=22521, claimed=0.0, reader_id=405791, prediction=0.023373009636998177),\n",
       " Row(book_id=22521, claimed=0.0, reader_id=414479, prediction=0.15596702694892883),\n",
       " Row(book_id=22521, claimed=0.0, reader_id=214693, prediction=0.0),\n",
       " Row(book_id=22521, claimed=0.0, reader_id=23620, prediction=0.0),\n",
       " Row(book_id=22521, claimed=0.0, reader_id=8750, prediction=0.01845540478825569),\n",
       " Row(book_id=22521, claimed=0.0, reader_id=135165, prediction=0.0),\n",
       " Row(book_id=22521, claimed=0.0, reader_id=216739, prediction=0.0),\n",
       " Row(book_id=22521, claimed=1.0, reader_id=293937, prediction=0.10627381503582001),\n",
       " Row(book_id=22521, claimed=0.0, reader_id=32605, prediction=0.030606113374233246),\n",
       " Row(book_id=22521, claimed=0.0, reader_id=286073, prediction=0.007207980379462242),\n",
       " Row(book_id=22521, claimed=0.0, reader_id=323893, prediction=0.0),\n",
       " Row(book_id=22521, claimed=0.0, reader_id=351460, prediction=0.020321352407336235),\n",
       " Row(book_id=23015, claimed=0.0, reader_id=154133, prediction=0.005792187061160803),\n",
       " Row(book_id=23015, claimed=0.0, reader_id=206102, prediction=-0.009606026113033295),\n",
       " Row(book_id=23271, claimed=0.0, reader_id=5633, prediction=0.0),\n",
       " Row(book_id=23271, claimed=0.0, reader_id=176095, prediction=0.0),\n",
       " Row(book_id=23271, claimed=0.0, reader_id=287171, prediction=0.033899229019880295),\n",
       " Row(book_id=23271, claimed=0.0, reader_id=360595, prediction=0.06244313344359398),\n",
       " Row(book_id=23271, claimed=1.0, reader_id=414389, prediction=0.07344397902488708),\n",
       " Row(book_id=23271, claimed=0.0, reader_id=236849, prediction=0.0004893863806501031),\n",
       " Row(book_id=23271, claimed=0.0, reader_id=368411, prediction=0.0),\n",
       " Row(book_id=23271, claimed=1.0, reader_id=440414, prediction=0.038757551461458206),\n",
       " Row(book_id=23271, claimed=0.0, reader_id=362008, prediction=0.006611639633774757),\n",
       " Row(book_id=23271, claimed=0.0, reader_id=292321, prediction=0.044487323611974716),\n",
       " Row(book_id=23271, claimed=0.0, reader_id=209256, prediction=0.026627566665410995),\n",
       " Row(book_id=23271, claimed=0.0, reader_id=10920, prediction=0.044987499713897705),\n",
       " Row(book_id=23271, claimed=0.0, reader_id=327905, prediction=0.0),\n",
       " Row(book_id=23571, claimed=0.0, reader_id=109375, prediction=0.0),\n",
       " Row(book_id=23571, claimed=0.0, reader_id=156563, prediction=0.0),\n",
       " Row(book_id=23571, claimed=0.0, reader_id=436437, prediction=0.0),\n",
       " Row(book_id=23571, claimed=0.0, reader_id=451741, prediction=0.0),\n",
       " Row(book_id=24354, claimed=1.0, reader_id=163811, prediction=0.08352521806955338),\n",
       " Row(book_id=24354, claimed=0.0, reader_id=344015, prediction=0.0),\n",
       " Row(book_id=24354, claimed=0.0, reader_id=112023, prediction=0.0),\n",
       " Row(book_id=24354, claimed=0.0, reader_id=425773, prediction=0.0),\n",
       " Row(book_id=24354, claimed=0.0, reader_id=550786, prediction=0.05831024423241615),\n",
       " Row(book_id=25517, claimed=0.0, reader_id=255778, prediction=0.1012127473950386),\n",
       " Row(book_id=25517, claimed=0.0, reader_id=280935, prediction=0.0),\n",
       " Row(book_id=25517, claimed=1.0, reader_id=314568, prediction=0.3717477321624756),\n",
       " Row(book_id=25517, claimed=0.0, reader_id=244835, prediction=0.06325480341911316),\n",
       " Row(book_id=25517, claimed=0.0, reader_id=348987, prediction=0.0),\n",
       " Row(book_id=25517, claimed=1.0, reader_id=485045, prediction=0.062102749943733215),\n",
       " Row(book_id=25517, claimed=0.0, reader_id=178729, prediction=0.013418808579444885),\n",
       " Row(book_id=25517, claimed=0.0, reader_id=34715, prediction=0.005150055047124624),\n",
       " Row(book_id=25517, claimed=0.0, reader_id=536204, prediction=0.009734703227877617),\n",
       " Row(book_id=25517, claimed=0.0, reader_id=155676, prediction=0.09710854291915894),\n",
       " Row(book_id=26425, claimed=0.0, reader_id=372561, prediction=0.057456810027360916),\n",
       " Row(book_id=26425, claimed=0.0, reader_id=149630, prediction=0.0),\n",
       " Row(book_id=26425, claimed=0.0, reader_id=267192, prediction=0.0)]"
      ]
     },
     "execution_count": 37,
     "metadata": {},
     "output_type": "execute_result"
    }
   ],
   "source": [
    "predictions.take(200)"
   ]
  },
  {
   "cell_type": "code",
   "execution_count": 36,
   "metadata": {
    "collapsed": false
   },
   "outputs": [
    {
     "data": {
      "text/plain": [
       "58160"
      ]
     },
     "execution_count": 36,
     "metadata": {},
     "output_type": "execute_result"
    }
   ],
   "source": [
    "new_predictions.count()"
   ]
  },
  {
   "cell_type": "code",
   "execution_count": null,
   "metadata": {
    "collapsed": true
   },
   "outputs": [],
   "source": []
  }
 ],
 "metadata": {
  "kernelspec": {
   "display_name": "Python [conda root]",
   "language": "python",
   "name": "conda-root-py"
  },
  "language_info": {
   "codemirror_mode": {
    "name": "ipython",
    "version": 2
   },
   "file_extension": ".py",
   "mimetype": "text/x-python",
   "name": "python",
   "nbconvert_exporter": "python",
   "pygments_lexer": "ipython2",
   "version": "2.7.12"
  }
 },
 "nbformat": 4,
 "nbformat_minor": 1
}
