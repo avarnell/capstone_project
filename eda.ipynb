{
 "cells": [
  {
   "cell_type": "markdown",
   "metadata": {},
   "source": [
    "Load data and create a subset (1% of full dataset)"
   ]
  },
  {
   "cell_type": "code",
   "execution_count": 2,
   "metadata": {
    "collapsed": false
   },
   "outputs": [],
   "source": [
    "import matplotlib.pyplot as plt\n",
    "%matplotlib inline"
   ]
  },
  {
   "cell_type": "code",
   "execution_count": 3,
   "metadata": {
    "collapsed": false
   },
   "outputs": [],
   "source": [
    "import pandas as pd\n",
    "\n",
    "df = pd.read_csv('data/instafreebie2-21-17_recommend_log.csv')\n",
    "df01 = df.iloc[-295918:]"
   ]
  },
  {
   "cell_type": "markdown",
   "metadata": {},
   "source": [
    "EDA"
   ]
  },
  {
   "cell_type": "code",
   "execution_count": 4,
   "metadata": {
    "collapsed": false
   },
   "outputs": [
    {
     "name": "stdout",
     "output_type": "stream",
     "text": [
      "Dataset shape: (29591800, 12)\n",
      "Subset shape: (295918, 12)\n"
     ]
    }
   ],
   "source": [
    "print 'Dataset shape:', df.shape\n",
    "print 'Subset shape:', df01.shape"
   ]
  },
  {
   "cell_type": "code",
   "execution_count": 5,
   "metadata": {
    "collapsed": false
   },
   "outputs": [
    {
     "name": "stdout",
     "output_type": "stream",
     "text": [
      "Columns:\n",
      "id\n",
      "source\n",
      "reader_id\n",
      "from_book_id\n",
      "book_id\n",
      "ad_id\n",
      "boost_id\n",
      "clicked\n",
      "claimed\n",
      "optin\n",
      "created_at\n",
      "updated_at\n"
     ]
    }
   ],
   "source": [
    "print \"Columns:\"\n",
    "for col in df.columns:\n",
    "    print col"
   ]
  },
  {
   "cell_type": "code",
   "execution_count": 21,
   "metadata": {
    "collapsed": false
   },
   "outputs": [
    {
     "data": {
      "text/html": [
       "<div>\n",
       "<table border=\"1\" class=\"dataframe\">\n",
       "  <thead>\n",
       "    <tr style=\"text-align: right;\">\n",
       "      <th></th>\n",
       "      <th>id</th>\n",
       "      <th>source</th>\n",
       "      <th>reader_id</th>\n",
       "      <th>from_book_id</th>\n",
       "      <th>book_id</th>\n",
       "      <th>ad_id</th>\n",
       "      <th>boost_id</th>\n",
       "      <th>clicked</th>\n",
       "      <th>claimed</th>\n",
       "      <th>optin</th>\n",
       "      <th>created_at</th>\n",
       "      <th>updated_at</th>\n",
       "    </tr>\n",
       "  </thead>\n",
       "  <tbody>\n",
       "    <tr>\n",
       "      <th>0</th>\n",
       "      <td>1</td>\n",
       "      <td>success_page</td>\n",
       "      <td>94918</td>\n",
       "      <td>4584</td>\n",
       "      <td>4666</td>\n",
       "      <td>0</td>\n",
       "      <td>0</td>\n",
       "      <td>0</td>\n",
       "      <td>0</td>\n",
       "      <td>0</td>\n",
       "      <td>2015-10-21 18:13:33</td>\n",
       "      <td>2015-10-21 18:13:33</td>\n",
       "    </tr>\n",
       "    <tr>\n",
       "      <th>1</th>\n",
       "      <td>2</td>\n",
       "      <td>success_page</td>\n",
       "      <td>94918</td>\n",
       "      <td>4584</td>\n",
       "      <td>4192</td>\n",
       "      <td>0</td>\n",
       "      <td>0</td>\n",
       "      <td>0</td>\n",
       "      <td>0</td>\n",
       "      <td>0</td>\n",
       "      <td>2015-10-21 18:13:33</td>\n",
       "      <td>2015-10-21 18:13:33</td>\n",
       "    </tr>\n",
       "    <tr>\n",
       "      <th>2</th>\n",
       "      <td>3</td>\n",
       "      <td>success_page</td>\n",
       "      <td>94918</td>\n",
       "      <td>4584</td>\n",
       "      <td>4395</td>\n",
       "      <td>0</td>\n",
       "      <td>0</td>\n",
       "      <td>0</td>\n",
       "      <td>0</td>\n",
       "      <td>0</td>\n",
       "      <td>2015-10-21 18:13:33</td>\n",
       "      <td>2015-10-21 18:13:33</td>\n",
       "    </tr>\n",
       "    <tr>\n",
       "      <th>3</th>\n",
       "      <td>4</td>\n",
       "      <td>success_page</td>\n",
       "      <td>24635</td>\n",
       "      <td>4757</td>\n",
       "      <td>3441</td>\n",
       "      <td>0</td>\n",
       "      <td>0</td>\n",
       "      <td>0</td>\n",
       "      <td>0</td>\n",
       "      <td>0</td>\n",
       "      <td>2015-10-21 18:14:31</td>\n",
       "      <td>2015-10-21 18:14:31</td>\n",
       "    </tr>\n",
       "    <tr>\n",
       "      <th>4</th>\n",
       "      <td>5</td>\n",
       "      <td>success_page</td>\n",
       "      <td>24635</td>\n",
       "      <td>4757</td>\n",
       "      <td>4395</td>\n",
       "      <td>0</td>\n",
       "      <td>0</td>\n",
       "      <td>0</td>\n",
       "      <td>0</td>\n",
       "      <td>0</td>\n",
       "      <td>2015-10-21 18:14:31</td>\n",
       "      <td>2015-10-21 18:14:31</td>\n",
       "    </tr>\n",
       "  </tbody>\n",
       "</table>\n",
       "</div>"
      ],
      "text/plain": [
       "   id        source  reader_id  from_book_id  book_id  ad_id  boost_id  \\\n",
       "0   1  success_page      94918          4584     4666      0         0   \n",
       "1   2  success_page      94918          4584     4192      0         0   \n",
       "2   3  success_page      94918          4584     4395      0         0   \n",
       "3   4  success_page      24635          4757     3441      0         0   \n",
       "4   5  success_page      24635          4757     4395      0         0   \n",
       "\n",
       "   clicked  claimed  optin           created_at           updated_at  \n",
       "0        0        0      0  2015-10-21 18:13:33  2015-10-21 18:13:33  \n",
       "1        0        0      0  2015-10-21 18:13:33  2015-10-21 18:13:33  \n",
       "2        0        0      0  2015-10-21 18:13:33  2015-10-21 18:13:33  \n",
       "3        0        0      0  2015-10-21 18:14:31  2015-10-21 18:14:31  \n",
       "4        0        0      0  2015-10-21 18:14:31  2015-10-21 18:14:31  "
      ]
     },
     "execution_count": 21,
     "metadata": {},
     "output_type": "execute_result"
    }
   ],
   "source": [
    "df.head()"
   ]
  },
  {
   "cell_type": "code",
   "execution_count": 24,
   "metadata": {
    "collapsed": false
   },
   "outputs": [
    {
     "data": {
      "text/html": [
       "<div>\n",
       "<table border=\"1\" class=\"dataframe\">\n",
       "  <thead>\n",
       "    <tr style=\"text-align: right;\">\n",
       "      <th></th>\n",
       "      <th>id</th>\n",
       "      <th>source</th>\n",
       "      <th>reader_id</th>\n",
       "      <th>from_book_id</th>\n",
       "      <th>book_id</th>\n",
       "      <th>ad_id</th>\n",
       "      <th>boost_id</th>\n",
       "      <th>clicked</th>\n",
       "      <th>claimed</th>\n",
       "      <th>optin</th>\n",
       "      <th>created_at</th>\n",
       "      <th>updated_at</th>\n",
       "    </tr>\n",
       "  </thead>\n",
       "  <tbody>\n",
       "    <tr>\n",
       "      <th>29295882</th>\n",
       "      <td>29295919</td>\n",
       "      <td>success_page</td>\n",
       "      <td>186643</td>\n",
       "      <td>20370</td>\n",
       "      <td>19203</td>\n",
       "      <td>0</td>\n",
       "      <td>0</td>\n",
       "      <td>1</td>\n",
       "      <td>1</td>\n",
       "      <td>0</td>\n",
       "      <td>2017-02-20 02:16:11</td>\n",
       "      <td>2017-02-20 02:26:24</td>\n",
       "    </tr>\n",
       "    <tr>\n",
       "      <th>29295883</th>\n",
       "      <td>29295920</td>\n",
       "      <td>success_page</td>\n",
       "      <td>186643</td>\n",
       "      <td>20370</td>\n",
       "      <td>19813</td>\n",
       "      <td>0</td>\n",
       "      <td>0</td>\n",
       "      <td>0</td>\n",
       "      <td>0</td>\n",
       "      <td>0</td>\n",
       "      <td>2017-02-20 02:16:11</td>\n",
       "      <td>2017-02-20 02:16:11</td>\n",
       "    </tr>\n",
       "    <tr>\n",
       "      <th>29295884</th>\n",
       "      <td>29295921</td>\n",
       "      <td>success_page</td>\n",
       "      <td>523754</td>\n",
       "      <td>18777</td>\n",
       "      <td>16281</td>\n",
       "      <td>0</td>\n",
       "      <td>0</td>\n",
       "      <td>0</td>\n",
       "      <td>0</td>\n",
       "      <td>0</td>\n",
       "      <td>2017-02-20 02:16:12</td>\n",
       "      <td>2017-02-20 02:16:12</td>\n",
       "    </tr>\n",
       "    <tr>\n",
       "      <th>29295885</th>\n",
       "      <td>29295922</td>\n",
       "      <td>success_page</td>\n",
       "      <td>523754</td>\n",
       "      <td>18777</td>\n",
       "      <td>22669</td>\n",
       "      <td>0</td>\n",
       "      <td>0</td>\n",
       "      <td>1</td>\n",
       "      <td>1</td>\n",
       "      <td>0</td>\n",
       "      <td>2017-02-20 02:16:12</td>\n",
       "      <td>2017-02-20 02:16:37</td>\n",
       "    </tr>\n",
       "    <tr>\n",
       "      <th>29295886</th>\n",
       "      <td>29295923</td>\n",
       "      <td>success_page</td>\n",
       "      <td>523754</td>\n",
       "      <td>18777</td>\n",
       "      <td>25350</td>\n",
       "      <td>0</td>\n",
       "      <td>0</td>\n",
       "      <td>0</td>\n",
       "      <td>0</td>\n",
       "      <td>0</td>\n",
       "      <td>2017-02-20 02:16:12</td>\n",
       "      <td>2017-02-20 02:16:12</td>\n",
       "    </tr>\n",
       "  </tbody>\n",
       "</table>\n",
       "</div>"
      ],
      "text/plain": [
       "                id        source  reader_id  from_book_id  book_id  ad_id  \\\n",
       "29295882  29295919  success_page     186643         20370    19203      0   \n",
       "29295883  29295920  success_page     186643         20370    19813      0   \n",
       "29295884  29295921  success_page     523754         18777    16281      0   \n",
       "29295885  29295922  success_page     523754         18777    22669      0   \n",
       "29295886  29295923  success_page     523754         18777    25350      0   \n",
       "\n",
       "          boost_id  clicked  claimed  optin           created_at  \\\n",
       "29295882         0        1        1      0  2017-02-20 02:16:11   \n",
       "29295883         0        0        0      0  2017-02-20 02:16:11   \n",
       "29295884         0        0        0      0  2017-02-20 02:16:12   \n",
       "29295885         0        1        1      0  2017-02-20 02:16:12   \n",
       "29295886         0        0        0      0  2017-02-20 02:16:12   \n",
       "\n",
       "                   updated_at  \n",
       "29295882  2017-02-20 02:26:24  \n",
       "29295883  2017-02-20 02:16:11  \n",
       "29295884  2017-02-20 02:16:12  \n",
       "29295885  2017-02-20 02:16:37  \n",
       "29295886  2017-02-20 02:16:12  "
      ]
     },
     "execution_count": 24,
     "metadata": {},
     "output_type": "execute_result"
    }
   ],
   "source": [
    "df01.head()"
   ]
  },
  {
   "cell_type": "code",
   "execution_count": 22,
   "metadata": {
    "collapsed": false
   },
   "outputs": [
    {
     "name": "stdout",
     "output_type": "stream",
     "text": [
      "<class 'pandas.core.frame.DataFrame'>\n",
      "RangeIndex: 29591800 entries, 0 to 29591799\n",
      "Data columns (total 12 columns):\n",
      "id              int64\n",
      "source          object\n",
      "reader_id       int64\n",
      "from_book_id    int64\n",
      "book_id         int64\n",
      "ad_id           int64\n",
      "boost_id        int64\n",
      "clicked         int64\n",
      "claimed         int64\n",
      "optin           int64\n",
      "created_at      object\n",
      "updated_at      object\n",
      "dtypes: int64(9), object(3)\n",
      "memory usage: 2.6+ GB\n"
     ]
    }
   ],
   "source": [
    "df.info()"
   ]
  },
  {
   "cell_type": "code",
   "execution_count": 23,
   "metadata": {
    "collapsed": false
   },
   "outputs": [
    {
     "name": "stdout",
     "output_type": "stream",
     "text": [
      "<class 'pandas.core.frame.DataFrame'>\n",
      "RangeIndex: 295918 entries, 29295882 to 29591799\n",
      "Data columns (total 12 columns):\n",
      "id              295918 non-null int64\n",
      "source          295918 non-null object\n",
      "reader_id       295918 non-null int64\n",
      "from_book_id    295918 non-null int64\n",
      "book_id         295918 non-null int64\n",
      "ad_id           295918 non-null int64\n",
      "boost_id        295918 non-null int64\n",
      "clicked         295918 non-null int64\n",
      "claimed         295918 non-null int64\n",
      "optin           295918 non-null int64\n",
      "created_at      295918 non-null object\n",
      "updated_at      295918 non-null object\n",
      "dtypes: int64(9), object(3)\n",
      "memory usage: 27.1+ MB\n"
     ]
    }
   ],
   "source": [
    "df01.info()"
   ]
  },
  {
   "cell_type": "code",
   "execution_count": 12,
   "metadata": {
    "collapsed": false
   },
   "outputs": [
    {
     "name": "stdout",
     "output_type": "stream",
     "text": [
      "Dataset\n",
      "  clicked: 3106707   claimed: 2808850   optin: 1585696\n",
      "   percent: 10.50%    percent: 9.49%     percent: 5.36%\n",
      "Subset\n",
      "  clicked: 32255     claimed: 28607     optin: 0\n",
      "   percent: 10.90%    percent: 9.67%     percent: 0.00%\n"
     ]
    }
   ],
   "source": [
    "df_clicked = df.clicked.sum()\n",
    "df_claimed = df.claimed.sum()\n",
    "df_optin = df.optin.sum()\n",
    "data_points = float(df.shape[0])/100\n",
    "print 'Dataset'\n",
    "print '  clicked: {0}   claimed: {1}   optin: {2}'.format(df_clicked, df_claimed, df_optin)\n",
    "print '   percent: {0:.2f}%    percent: {1:.2f}%     percent: {2:.2f}%'.format(df_clicked/data_points, df_claimed/data_points, df_optin/data_points)\n",
    "\n",
    "df01_clicked = df01.clicked.sum()\n",
    "df01_claimed = df01.claimed.sum()\n",
    "df01_optin = df01.optin.sum()\n",
    "data_points01 = float(df01.shape[0])/100\n",
    "print 'Subset'\n",
    "print '  clicked: {0}     claimed: {1}     optin: {2}'.format(df01_clicked, df01_claimed, df01_optin)\n",
    "print '   percent: {0:.2f}%    percent: {1:.2f}%     percent: {2:.2f}%'.format(df01_clicked/data_points01, df01_claimed/data_points01, df01_optin/data_points01)"
   ]
  },
  {
   "cell_type": "code",
   "execution_count": 6,
   "metadata": {
    "collapsed": false
   },
   "outputs": [
    {
     "name": "stdout",
     "output_type": "stream",
     "text": [
      "Dataset\n",
      "Number of unique readers: 508163 and books reccommended: 10078\n",
      "\n",
      "Subset\n",
      "Number of unique readers: 21726 and books reccommended: 6276\n"
     ]
    }
   ],
   "source": [
    "print 'Dataset'\n",
    "print 'Number of unique readers: {0} and books reccommended: {1}'\\\n",
    ".format(df.reader_id.nunique(), df.book_id.nunique())\n",
    "\n",
    "print '\\nSubset'\n",
    "print 'Number of unique readers: {0} and books reccommended: {1}'\\\n",
    ".format(df01.reader_id.nunique(), df01.book_id.nunique())"
   ]
  },
  {
   "cell_type": "markdown",
   "metadata": {},
   "source": [
    "Dataset\n",
    "<br>Average reccommendations per reader: 58.2 \n",
    "<br>Average reccommendation per book: 2936\n",
    "\n",
    "Subset\n",
    "<br>Average reccommendations per reader: 13.6\n",
    "<br>Average reccommendation per book: 47.2"
   ]
  },
  {
   "cell_type": "code",
   "execution_count": 14,
   "metadata": {
    "collapsed": false
   },
   "outputs": [
    {
     "data": {
      "image/png": "[encoded data removed]",
      "text/plain": [
       "<matplotlib.figure.Figure at 0x10d5f75d0>"
      ]
     },
     "metadata": {},
     "output_type": "display_data"
    }
   ],
   "source": [
    "df.claimed.value_counts().plot(kind='bar');"
   ]
  },
  {
   "cell_type": "code",
   "execution_count": 13,
   "metadata": {
    "collapsed": false
   },
   "outputs": [
    {
     "data": {
      "image/png": "[encoded data removed]",
      "text/plain": [
       "<matplotlib.figure.Figure at 0x10d51a7d0>"
      ]
     },
     "metadata": {},
     "output_type": "display_data"
    }
   ],
   "source": [
    "df01.claimed.value_counts().plot(kind='bar');"
   ]
  },
  {
   "cell_type": "code",
   "execution_count": null,
   "metadata": {
    "collapsed": false
   },
   "outputs": [],
   "source": []
  },
  {
   "cell_type": "code",
   "execution_count": null,
   "metadata": {
    "collapsed": true
   },
   "outputs": [],
   "source": []
  }
 ],
 "metadata": {
  "anaconda-cloud": {},
  "kernelspec": {
   "display_name": "Python [conda root]",
   "language": "python",
   "name": "conda-root-py"
  },
  "language_info": {
   "codemirror_mode": {
    "name": "ipython",
    "version": 2
   },
   "file_extension": ".py",
   "mimetype": "text/x-python",
   "name": "python",
   "nbconvert_exporter": "python",
   "pygments_lexer": "ipython2",
   "version": "2.7.12"
  }
 },
 "nbformat": 4,
 "nbformat_minor": 1
}
